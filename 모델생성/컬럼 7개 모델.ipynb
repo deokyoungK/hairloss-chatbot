{
 "cells": [
  {
   "cell_type": "code",
   "execution_count": 1,
   "id": "0bedc6f4",
   "metadata": {
    "execution": {
     "iopub.execute_input": "2022-07-25T11:56:05.530489Z",
     "iopub.status.busy": "2022-07-25T11:56:05.529875Z",
     "iopub.status.idle": "2022-07-25T11:56:12.031340Z",
     "shell.execute_reply": "2022-07-25T11:56:12.030284Z"
    },
    "papermill": {
     "duration": 6.513002,
     "end_time": "2022-07-25T11:56:12.034484",
     "exception": false,
     "start_time": "2022-07-25T11:56:05.521482",
     "status": "completed"
    },
    "tags": []
   },
   "outputs": [],
   "source": [
    "import tensorflow as tf\n",
    "import numpy as np\n",
    "import sklearn as sk\n",
    "import pandas as pd\n",
    "from sklearn.model_selection import train_test_split\n",
    "import matplotlib.pyplot as plt"
   ]
  },
  {
   "cell_type": "markdown",
   "id": "c20c4355",
   "metadata": {
    "papermill": {
     "duration": 0.004608,
     "end_time": "2022-07-25T11:56:12.044368",
     "exception": false,
     "start_time": "2022-07-25T11:56:12.039760",
     "status": "completed"
    },
    "tags": []
   },
   "source": [
    "# Load Data"
   ]
  },
  {
   "cell_type": "code",
   "execution_count": 59,
   "id": "f480680f",
   "metadata": {
    "execution": {
     "iopub.execute_input": "2022-07-25T11:56:12.056181Z",
     "iopub.status.busy": "2022-07-25T11:56:12.055306Z",
     "iopub.status.idle": "2022-07-25T11:56:12.101632Z",
     "shell.execute_reply": "2022-07-25T11:56:12.100792Z"
    },
    "papermill": {
     "duration": 0.054805,
     "end_time": "2022-07-25T11:56:12.104088",
     "exception": false,
     "start_time": "2022-07-25T11:56:12.049283",
     "status": "completed"
    },
    "tags": []
   },
   "outputs": [
    {
     "data": {
      "text/html": [
       "<div>\n",
       "<style scoped>\n",
       "    .dataframe tbody tr th:only-of-type {\n",
       "        vertical-align: middle;\n",
       "    }\n",
       "\n",
       "    .dataframe tbody tr th {\n",
       "        vertical-align: top;\n",
       "    }\n",
       "\n",
       "    .dataframe thead th {\n",
       "        text-align: right;\n",
       "    }\n",
       "</style>\n",
       "<table border=\"1\" class=\"dataframe\">\n",
       "  <thead>\n",
       "    <tr style=\"text-align: right;\">\n",
       "      <th></th>\n",
       "      <th>date</th>\n",
       "      <th>hair_loss</th>\n",
       "      <th>stay_up_late</th>\n",
       "      <th>pressure_level</th>\n",
       "      <th>coffee_consumed</th>\n",
       "      <th>brain_working_duration</th>\n",
       "      <th>school_assesssment</th>\n",
       "      <th>stress_level</th>\n",
       "      <th>shampoo_brand</th>\n",
       "      <th>swimming</th>\n",
       "      <th>hair_washing</th>\n",
       "      <th>hair_grease</th>\n",
       "      <th>dandruff</th>\n",
       "      <th>libido</th>\n",
       "    </tr>\n",
       "  </thead>\n",
       "  <tbody>\n",
       "    <tr>\n",
       "      <th>0</th>\n",
       "      <td>1/01/2021</td>\n",
       "      <td>Few</td>\n",
       "      <td>2</td>\n",
       "      <td>Low</td>\n",
       "      <td>0</td>\n",
       "      <td>1</td>\n",
       "      <td>None</td>\n",
       "      <td>Low</td>\n",
       "      <td>Pantene</td>\n",
       "      <td>No</td>\n",
       "      <td>Y</td>\n",
       "      <td>3.0</td>\n",
       "      <td>None</td>\n",
       "      <td>1</td>\n",
       "    </tr>\n",
       "    <tr>\n",
       "      <th>1</th>\n",
       "      <td>2/01/2021</td>\n",
       "      <td>Few</td>\n",
       "      <td>0</td>\n",
       "      <td>Low</td>\n",
       "      <td>0</td>\n",
       "      <td>3</td>\n",
       "      <td>None</td>\n",
       "      <td>Low</td>\n",
       "      <td>Pantene</td>\n",
       "      <td>No</td>\n",
       "      <td>N</td>\n",
       "      <td>1.0</td>\n",
       "      <td>None</td>\n",
       "      <td>1</td>\n",
       "    </tr>\n",
       "    <tr>\n",
       "      <th>2</th>\n",
       "      <td>3/01/2021</td>\n",
       "      <td>Medium</td>\n",
       "      <td>3</td>\n",
       "      <td>Low</td>\n",
       "      <td>1</td>\n",
       "      <td>0</td>\n",
       "      <td>None</td>\n",
       "      <td>Low</td>\n",
       "      <td>Pantene</td>\n",
       "      <td>Yes</td>\n",
       "      <td>Y</td>\n",
       "      <td>2.0</td>\n",
       "      <td>None</td>\n",
       "      <td>2</td>\n",
       "    </tr>\n",
       "    <tr>\n",
       "      <th>3</th>\n",
       "      <td>4/01/2021</td>\n",
       "      <td>Few</td>\n",
       "      <td>2</td>\n",
       "      <td>Low</td>\n",
       "      <td>0</td>\n",
       "      <td>1</td>\n",
       "      <td>None</td>\n",
       "      <td>Low</td>\n",
       "      <td>Pantene</td>\n",
       "      <td>No</td>\n",
       "      <td>N</td>\n",
       "      <td>3.0</td>\n",
       "      <td>None</td>\n",
       "      <td>3</td>\n",
       "    </tr>\n",
       "    <tr>\n",
       "      <th>4</th>\n",
       "      <td>5/01/2021</td>\n",
       "      <td>Few</td>\n",
       "      <td>2</td>\n",
       "      <td>Low</td>\n",
       "      <td>0</td>\n",
       "      <td>1</td>\n",
       "      <td>None</td>\n",
       "      <td>Low</td>\n",
       "      <td>Pantene</td>\n",
       "      <td>No</td>\n",
       "      <td>Y</td>\n",
       "      <td>1.0</td>\n",
       "      <td>None</td>\n",
       "      <td>2</td>\n",
       "    </tr>\n",
       "    <tr>\n",
       "      <th>...</th>\n",
       "      <td>...</td>\n",
       "      <td>...</td>\n",
       "      <td>...</td>\n",
       "      <td>...</td>\n",
       "      <td>...</td>\n",
       "      <td>...</td>\n",
       "      <td>...</td>\n",
       "      <td>...</td>\n",
       "      <td>...</td>\n",
       "      <td>...</td>\n",
       "      <td>...</td>\n",
       "      <td>...</td>\n",
       "      <td>...</td>\n",
       "      <td>...</td>\n",
       "    </tr>\n",
       "    <tr>\n",
       "      <th>395</th>\n",
       "      <td>31/01/2022</td>\n",
       "      <td>Medium</td>\n",
       "      <td>1</td>\n",
       "      <td>Low</td>\n",
       "      <td>1</td>\n",
       "      <td>2</td>\n",
       "      <td>None</td>\n",
       "      <td>Low</td>\n",
       "      <td>Hair &amp; Shoulder</td>\n",
       "      <td>No</td>\n",
       "      <td>N</td>\n",
       "      <td>1.0</td>\n",
       "      <td>None</td>\n",
       "      <td>5</td>\n",
       "    </tr>\n",
       "    <tr>\n",
       "      <th>396</th>\n",
       "      <td>1/02/2022</td>\n",
       "      <td>Few</td>\n",
       "      <td>1</td>\n",
       "      <td>Low</td>\n",
       "      <td>0</td>\n",
       "      <td>3</td>\n",
       "      <td>None</td>\n",
       "      <td>Low</td>\n",
       "      <td>Hair &amp; Shoulder</td>\n",
       "      <td>Yes</td>\n",
       "      <td>Y</td>\n",
       "      <td>2.0</td>\n",
       "      <td>None</td>\n",
       "      <td>1</td>\n",
       "    </tr>\n",
       "    <tr>\n",
       "      <th>397</th>\n",
       "      <td>2/02/2022</td>\n",
       "      <td>Medium</td>\n",
       "      <td>1</td>\n",
       "      <td>Low</td>\n",
       "      <td>1</td>\n",
       "      <td>1</td>\n",
       "      <td>None</td>\n",
       "      <td>Low</td>\n",
       "      <td>Hair &amp; Shoulder</td>\n",
       "      <td>No</td>\n",
       "      <td>N</td>\n",
       "      <td>2.0</td>\n",
       "      <td>None</td>\n",
       "      <td>5</td>\n",
       "    </tr>\n",
       "    <tr>\n",
       "      <th>398</th>\n",
       "      <td>3/02/2022</td>\n",
       "      <td>Medium</td>\n",
       "      <td>0</td>\n",
       "      <td>Low</td>\n",
       "      <td>1</td>\n",
       "      <td>1</td>\n",
       "      <td>None</td>\n",
       "      <td>Low</td>\n",
       "      <td>Hair &amp; Shoulder</td>\n",
       "      <td>No</td>\n",
       "      <td>N</td>\n",
       "      <td>2.0</td>\n",
       "      <td>None</td>\n",
       "      <td>5</td>\n",
       "    </tr>\n",
       "    <tr>\n",
       "      <th>399</th>\n",
       "      <td>4/02/2022</td>\n",
       "      <td>Few</td>\n",
       "      <td>1</td>\n",
       "      <td>Low</td>\n",
       "      <td>0</td>\n",
       "      <td>2</td>\n",
       "      <td>None</td>\n",
       "      <td>Low</td>\n",
       "      <td>Hair &amp; Shoulder</td>\n",
       "      <td>Yes</td>\n",
       "      <td>Y</td>\n",
       "      <td>2.0</td>\n",
       "      <td>None</td>\n",
       "      <td>1</td>\n",
       "    </tr>\n",
       "  </tbody>\n",
       "</table>\n",
       "<p>400 rows × 14 columns</p>\n",
       "</div>"
      ],
      "text/plain": [
       "          date  hair_loss  stay_up_late pressure_level  coffee_consumed  \\\n",
       "0     1/01/2021       Few             2            Low                0   \n",
       "1     2/01/2021       Few             0            Low                0   \n",
       "2     3/01/2021    Medium             3            Low                1   \n",
       "3     4/01/2021       Few             2            Low                0   \n",
       "4     5/01/2021       Few             2            Low                0   \n",
       "..          ...       ...           ...            ...              ...   \n",
       "395  31/01/2022    Medium             1            Low                1   \n",
       "396   1/02/2022       Few             1            Low                0   \n",
       "397   2/02/2022    Medium             1            Low                1   \n",
       "398   3/02/2022    Medium             0            Low                1   \n",
       "399   4/02/2022       Few             1            Low                0   \n",
       "\n",
       "     brain_working_duration school_assesssment stress_level    shampoo_brand  \\\n",
       "0                         1               None          Low          Pantene   \n",
       "1                         3               None          Low          Pantene   \n",
       "2                         0               None          Low          Pantene   \n",
       "3                         1               None          Low          Pantene   \n",
       "4                         1               None          Low          Pantene   \n",
       "..                      ...                ...          ...              ...   \n",
       "395                       2               None          Low  Hair & Shoulder   \n",
       "396                       3               None          Low  Hair & Shoulder   \n",
       "397                       1               None          Low  Hair & Shoulder   \n",
       "398                       1               None          Low  Hair & Shoulder   \n",
       "399                       2               None          Low  Hair & Shoulder   \n",
       "\n",
       "    swimming hair_washing  hair_grease dandruff  libido  \n",
       "0         No            Y          3.0     None       1  \n",
       "1         No            N          1.0     None       1  \n",
       "2        Yes            Y          2.0     None       2  \n",
       "3         No            N          3.0     None       3  \n",
       "4         No            Y          1.0     None       2  \n",
       "..       ...          ...          ...      ...     ...  \n",
       "395       No            N          1.0     None       5  \n",
       "396      Yes            Y          2.0     None       1  \n",
       "397       No            N          2.0     None       5  \n",
       "398       No            N          2.0     None       5  \n",
       "399      Yes            Y          2.0     None       1  \n",
       "\n",
       "[400 rows x 14 columns]"
      ]
     },
     "execution_count": 59,
     "metadata": {},
     "output_type": "execute_result"
    }
   ],
   "source": [
    "df = pd.read_csv('C:/Users/kang4/Desktop/capstone/Luke_hair_loss_documentation.csv')\n",
    "df"
   ]
  },
  {
   "cell_type": "markdown",
   "id": "ef9b7076",
   "metadata": {
    "papermill": {
     "duration": 0.005107,
     "end_time": "2022-07-25T11:56:12.114667",
     "exception": false,
     "start_time": "2022-07-25T11:56:12.109560",
     "status": "completed"
    },
    "tags": []
   },
   "source": [
    "# Proccessing Data"
   ]
  },
  {
   "cell_type": "code",
   "execution_count": 60,
   "id": "b301de75",
   "metadata": {
    "execution": {
     "iopub.execute_input": "2022-07-25T11:56:12.127314Z",
     "iopub.status.busy": "2022-07-25T11:56:12.126706Z",
     "iopub.status.idle": "2022-07-25T11:56:12.161988Z",
     "shell.execute_reply": "2022-07-25T11:56:12.160851Z"
    },
    "papermill": {
     "duration": 0.044561,
     "end_time": "2022-07-25T11:56:12.164509",
     "exception": false,
     "start_time": "2022-07-25T11:56:12.119948",
     "status": "completed"
    },
    "tags": []
   },
   "outputs": [
    {
     "data": {
      "text/html": [
       "<div>\n",
       "<style scoped>\n",
       "    .dataframe tbody tr th:only-of-type {\n",
       "        vertical-align: middle;\n",
       "    }\n",
       "\n",
       "    .dataframe tbody tr th {\n",
       "        vertical-align: top;\n",
       "    }\n",
       "\n",
       "    .dataframe thead th {\n",
       "        text-align: right;\n",
       "    }\n",
       "</style>\n",
       "<table border=\"1\" class=\"dataframe\">\n",
       "  <thead>\n",
       "    <tr style=\"text-align: right;\">\n",
       "      <th></th>\n",
       "      <th>date</th>\n",
       "      <th>hair_loss</th>\n",
       "      <th>stay_up_late</th>\n",
       "      <th>pressure_level</th>\n",
       "      <th>coffee_consumed</th>\n",
       "      <th>brain_working_duration</th>\n",
       "      <th>school_assesssment</th>\n",
       "      <th>stress_level</th>\n",
       "      <th>shampoo_brand</th>\n",
       "      <th>swimming</th>\n",
       "      <th>hair_washing</th>\n",
       "      <th>hair_grease</th>\n",
       "      <th>dandruff</th>\n",
       "      <th>libido</th>\n",
       "    </tr>\n",
       "  </thead>\n",
       "  <tbody>\n",
       "    <tr>\n",
       "      <th>0</th>\n",
       "      <td>1/01/2021</td>\n",
       "      <td>0</td>\n",
       "      <td>2</td>\n",
       "      <td>0</td>\n",
       "      <td>0</td>\n",
       "      <td>1</td>\n",
       "      <td>None</td>\n",
       "      <td>0</td>\n",
       "      <td>Pantene</td>\n",
       "      <td>0</td>\n",
       "      <td>1</td>\n",
       "      <td>3.0</td>\n",
       "      <td>0</td>\n",
       "      <td>1</td>\n",
       "    </tr>\n",
       "    <tr>\n",
       "      <th>1</th>\n",
       "      <td>2/01/2021</td>\n",
       "      <td>0</td>\n",
       "      <td>0</td>\n",
       "      <td>0</td>\n",
       "      <td>0</td>\n",
       "      <td>3</td>\n",
       "      <td>None</td>\n",
       "      <td>0</td>\n",
       "      <td>Pantene</td>\n",
       "      <td>0</td>\n",
       "      <td>0</td>\n",
       "      <td>1.0</td>\n",
       "      <td>0</td>\n",
       "      <td>1</td>\n",
       "    </tr>\n",
       "    <tr>\n",
       "      <th>2</th>\n",
       "      <td>3/01/2021</td>\n",
       "      <td>0</td>\n",
       "      <td>3</td>\n",
       "      <td>0</td>\n",
       "      <td>1</td>\n",
       "      <td>0</td>\n",
       "      <td>None</td>\n",
       "      <td>0</td>\n",
       "      <td>Pantene</td>\n",
       "      <td>1</td>\n",
       "      <td>1</td>\n",
       "      <td>2.0</td>\n",
       "      <td>0</td>\n",
       "      <td>2</td>\n",
       "    </tr>\n",
       "    <tr>\n",
       "      <th>3</th>\n",
       "      <td>4/01/2021</td>\n",
       "      <td>0</td>\n",
       "      <td>2</td>\n",
       "      <td>0</td>\n",
       "      <td>0</td>\n",
       "      <td>1</td>\n",
       "      <td>None</td>\n",
       "      <td>0</td>\n",
       "      <td>Pantene</td>\n",
       "      <td>0</td>\n",
       "      <td>0</td>\n",
       "      <td>3.0</td>\n",
       "      <td>0</td>\n",
       "      <td>3</td>\n",
       "    </tr>\n",
       "    <tr>\n",
       "      <th>4</th>\n",
       "      <td>5/01/2021</td>\n",
       "      <td>0</td>\n",
       "      <td>2</td>\n",
       "      <td>0</td>\n",
       "      <td>0</td>\n",
       "      <td>1</td>\n",
       "      <td>None</td>\n",
       "      <td>0</td>\n",
       "      <td>Pantene</td>\n",
       "      <td>0</td>\n",
       "      <td>1</td>\n",
       "      <td>1.0</td>\n",
       "      <td>0</td>\n",
       "      <td>2</td>\n",
       "    </tr>\n",
       "  </tbody>\n",
       "</table>\n",
       "</div>"
      ],
      "text/plain": [
       "       date   hair_loss  stay_up_late  pressure_level  coffee_consumed  \\\n",
       "0  1/01/2021          0             2               0                0   \n",
       "1  2/01/2021          0             0               0                0   \n",
       "2  3/01/2021          0             3               0                1   \n",
       "3  4/01/2021          0             2               0                0   \n",
       "4  5/01/2021          0             2               0                0   \n",
       "\n",
       "   brain_working_duration school_assesssment  stress_level shampoo_brand  \\\n",
       "0                       1               None             0       Pantene   \n",
       "1                       3               None             0       Pantene   \n",
       "2                       0               None             0       Pantene   \n",
       "3                       1               None             0       Pantene   \n",
       "4                       1               None             0       Pantene   \n",
       "\n",
       "   swimming  hair_washing  hair_grease  dandruff  libido  \n",
       "0         0             1          3.0         0       1  \n",
       "1         0             0          1.0         0       1  \n",
       "2         1             1          2.0         0       2  \n",
       "3         0             0          3.0         0       3  \n",
       "4         0             1          1.0         0       2  "
      ]
     },
     "execution_count": 60,
     "metadata": {},
     "output_type": "execute_result"
    }
   ],
   "source": [
    "df['dandruff'].replace('None',0,inplace=True)\n",
    "df['dandruff'].replace('Few',1,inplace=True)\n",
    "df['dandruff'].replace('Many',2, inplace=True)\n",
    "\n",
    "df['hair_loss'].replace(\"Few\", 0, inplace=True)\n",
    "df['hair_loss'].replace(\"Medium\", 0, inplace=True)\n",
    "df['hair_loss'].replace(\"Many\", 1, inplace=True)\n",
    "df['hair_loss'].replace(\"A lot\", 1, inplace=True)\n",
    "\n",
    "df['swimming'].replace('Yes', 1, inplace=True)\n",
    "df['swimming'].replace('No', 0, inplace=True)\n",
    "\n",
    "df.replace('Low', 0, inplace=True)\n",
    "df.replace('Medium', 1, inplace=True)\n",
    "df.replace('High', 2, inplace=True)\n",
    "df.replace('Very High', 3, inplace=True)\n",
    "\n",
    "df['hair_washing'].replace('Y',1,inplace=True)\n",
    "df['hair_washing'].replace('N',0,inplace=True)\n",
    "\n",
    "\n",
    "df.head()\n"
   ]
  },
  {
   "cell_type": "code",
   "execution_count": 61,
   "id": "9934318a",
   "metadata": {
    "execution": {
     "iopub.execute_input": "2022-07-25T11:56:12.179748Z",
     "iopub.status.busy": "2022-07-25T11:56:12.177341Z",
     "iopub.status.idle": "2022-07-25T11:56:12.210405Z",
     "shell.execute_reply": "2022-07-25T11:56:12.208978Z"
    },
    "papermill": {
     "duration": 0.043498,
     "end_time": "2022-07-25T11:56:12.214055",
     "exception": false,
     "start_time": "2022-07-25T11:56:12.170557",
     "status": "completed"
    },
    "tags": []
   },
   "outputs": [
    {
     "name": "stdout",
     "output_type": "stream",
     "text": [
      "<class 'pandas.core.frame.DataFrame'>\n",
      "RangeIndex: 400 entries, 0 to 399\n",
      "Data columns (total 14 columns):\n",
      " #   Column                  Non-Null Count  Dtype  \n",
      "---  ------                  --------------  -----  \n",
      " 0   date                    400 non-null    object \n",
      " 1   hair_loss               400 non-null    int64  \n",
      " 2   stay_up_late            400 non-null    int64  \n",
      " 3   pressure_level          400 non-null    int64  \n",
      " 4   coffee_consumed         400 non-null    int64  \n",
      " 5   brain_working_duration  400 non-null    int64  \n",
      " 6   school_assesssment      400 non-null    object \n",
      " 7   stress_level            400 non-null    int64  \n",
      " 8   shampoo_brand           400 non-null    object \n",
      " 9   swimming                400 non-null    int64  \n",
      " 10  hair_washing            400 non-null    int64  \n",
      " 11  hair_grease             396 non-null    float64\n",
      " 12  dandruff                400 non-null    int64  \n",
      " 13  libido                  400 non-null    int64  \n",
      "dtypes: float64(1), int64(10), object(3)\n",
      "memory usage: 43.9+ KB\n"
     ]
    }
   ],
   "source": [
    "df.info()"
   ]
  },
  {
   "cell_type": "code",
   "execution_count": 62,
   "id": "b2a55176",
   "metadata": {
    "execution": {
     "iopub.execute_input": "2022-07-25T11:56:12.227562Z",
     "iopub.status.busy": "2022-07-25T11:56:12.227150Z",
     "iopub.status.idle": "2022-07-25T11:56:12.241969Z",
     "shell.execute_reply": "2022-07-25T11:56:12.240714Z"
    },
    "papermill": {
     "duration": 0.024677,
     "end_time": "2022-07-25T11:56:12.244473",
     "exception": false,
     "start_time": "2022-07-25T11:56:12.219796",
     "status": "completed"
    },
    "scrolled": true,
    "tags": []
   },
   "outputs": [
    {
     "name": "stderr",
     "output_type": "stream",
     "text": [
      "C:\\Users\\kang4\\AppData\\Local\\Temp\\ipykernel_17100\\2855287569.py:1: FutureWarning: The default value of numeric_only in DataFrame.corr is deprecated. In a future version, it will default to False. Select only valid columns or specify the value of numeric_only to silence this warning.\n",
      "  plot_cols = df.corr().loc['stay_up_late':, 'hair_loss'].abs().sort_values(ascending=False)\n"
     ]
    },
    {
     "data": {
      "text/plain": [
       "dandruff                  0.808751\n",
       "stress_level              0.784986\n",
       "pressure_level            0.779733\n",
       "hair_grease               0.682490\n",
       "coffee_consumed           0.671447\n",
       "brain_working_duration    0.591093\n",
       "stay_up_late              0.350551\n",
       "swimming                  0.240211\n",
       "libido                    0.140884\n",
       "hair_washing              0.033312\n",
       "Name: hair_loss, dtype: float64"
      ]
     },
     "execution_count": 62,
     "metadata": {},
     "output_type": "execute_result"
    }
   ],
   "source": [
    "plot_cols = df.corr().loc['stay_up_late':, 'hair_loss'].abs().sort_values(ascending=False)\n",
    "plot_cols"
   ]
  },
  {
   "cell_type": "code",
   "execution_count": 63,
   "id": "908034bd",
   "metadata": {
    "execution": {
     "iopub.execute_input": "2022-07-25T11:56:12.258645Z",
     "iopub.status.busy": "2022-07-25T11:56:12.257793Z",
     "iopub.status.idle": "2022-07-25T11:56:12.266463Z",
     "shell.execute_reply": "2022-07-25T11:56:12.265456Z"
    },
    "papermill": {
     "duration": 0.01892,
     "end_time": "2022-07-25T11:56:12.269053",
     "exception": false,
     "start_time": "2022-07-25T11:56:12.250133",
     "status": "completed"
    },
    "tags": []
   },
   "outputs": [],
   "source": [
    "X_df= df[['stress_level', 'pressure_level', 'dandruff' ,'coffee_consumed','brain_working_duration', 'stay_up_late', 'hair_washing']]"
   ]
  },
  {
   "cell_type": "code",
   "execution_count": 64,
   "id": "61cb4229",
   "metadata": {
    "execution": {
     "iopub.execute_input": "2022-07-25T11:56:12.283169Z",
     "iopub.status.busy": "2022-07-25T11:56:12.282742Z",
     "iopub.status.idle": "2022-07-25T11:56:12.291398Z",
     "shell.execute_reply": "2022-07-25T11:56:12.290115Z"
    },
    "papermill": {
     "duration": 0.019703,
     "end_time": "2022-07-25T11:56:12.294475",
     "exception": false,
     "start_time": "2022-07-25T11:56:12.274772",
     "status": "completed"
    },
    "tags": []
   },
   "outputs": [
    {
     "name": "stdout",
     "output_type": "stream",
     "text": [
      "(400,)\n",
      "(400, 7)\n"
     ]
    }
   ],
   "source": [
    "y_data = df['hair_loss'].to_numpy().astype(np.float32)\n",
    "print(y_data.shape)\n",
    "\n",
    "df.drop('hair_loss', axis=1, inplace=True)\n",
    "\n",
    "X_data = X_df.to_numpy().astype(np.float32)\n",
    "\n",
    "print(X_data.shape)"
   ]
  },
  {
   "cell_type": "markdown",
   "id": "23e6519b",
   "metadata": {
    "papermill": {
     "duration": 0.005851,
     "end_time": "2022-07-25T11:56:12.305919",
     "exception": false,
     "start_time": "2022-07-25T11:56:12.300068",
     "status": "completed"
    },
    "tags": []
   },
   "source": [
    "# Train Test Split"
   ]
  },
  {
   "cell_type": "code",
   "execution_count": 65,
   "id": "235bbe8c",
   "metadata": {
    "execution": {
     "iopub.execute_input": "2022-07-25T11:56:12.319530Z",
     "iopub.status.busy": "2022-07-25T11:56:12.319160Z",
     "iopub.status.idle": "2022-07-25T11:56:12.325953Z",
     "shell.execute_reply": "2022-07-25T11:56:12.324730Z"
    },
    "papermill": {
     "duration": 0.017332,
     "end_time": "2022-07-25T11:56:12.329130",
     "exception": false,
     "start_time": "2022-07-25T11:56:12.311798",
     "status": "completed"
    },
    "tags": []
   },
   "outputs": [
    {
     "name": "stdout",
     "output_type": "stream",
     "text": [
      "(360, 7)\n",
      "(40, 7)\n",
      "_____________\n",
      "(360,)\n",
      "(40,)\n"
     ]
    }
   ],
   "source": [
    "X_train, X_test, y_train, y_test = train_test_split(X_data, y_data, test_size=0.1, random_state=42)\n",
    "print(X_train.shape)\n",
    "print(X_test.shape)\n",
    "print('_____________')\n",
    "print(y_train.shape)\n",
    "print(y_test.shape)\n"
   ]
  },
  {
   "cell_type": "markdown",
   "id": "4b02df98",
   "metadata": {
    "papermill": {
     "duration": 0.005455,
     "end_time": "2022-07-25T11:56:12.340240",
     "exception": false,
     "start_time": "2022-07-25T11:56:12.334785",
     "status": "completed"
    },
    "tags": []
   },
   "source": [
    "# Model Building"
   ]
  },
  {
   "cell_type": "code",
   "execution_count": 66,
   "id": "78c69164",
   "metadata": {
    "execution": {
     "iopub.execute_input": "2022-07-25T11:56:12.353772Z",
     "iopub.status.busy": "2022-07-25T11:56:12.352968Z",
     "iopub.status.idle": "2022-07-25T11:56:13.865576Z",
     "shell.execute_reply": "2022-07-25T11:56:13.861586Z"
    },
    "papermill": {
     "duration": 1.52231,
     "end_time": "2022-07-25T11:56:13.868187",
     "exception": false,
     "start_time": "2022-07-25T11:56:12.345877",
     "status": "completed"
    },
    "tags": []
   },
   "outputs": [
    {
     "name": "stdout",
     "output_type": "stream",
     "text": [
      "Model: \"sequential_2\"\n",
      "_________________________________________________________________\n",
      " Layer (type)                Output Shape              Param #   \n",
      "=================================================================\n",
      " dense_8 (Dense)             (None, 64)                512       \n",
      "                                                                 \n",
      " dense_9 (Dense)             (None, 32)                2080      \n",
      "                                                                 \n",
      " dense_10 (Dense)            (None, 16)                528       \n",
      "                                                                 \n",
      " dense_11 (Dense)            (None, 1)                 17        \n",
      "                                                                 \n",
      "=================================================================\n",
      "Total params: 3,137\n",
      "Trainable params: 3,137\n",
      "Non-trainable params: 0\n",
      "_________________________________________________________________\n"
     ]
    }
   ],
   "source": [
    "model = tf.keras.Sequential()\n",
    "\n",
    "model.add(tf.keras.layers.Input(shape=(7)))\n",
    "\n",
    "model.add(tf.keras.layers.Dense(64, activation='relu'))\n",
    "model.add(tf.keras.layers.Dense(32, activation='relu'))\n",
    "model.add(tf.keras.layers.Dense(16, activation='relu'))\n",
    "model.add(tf.keras.layers.Dense(1, activation='sigmoid'))\n",
    "\n",
    "model.compile(loss=tf.keras.losses.BinaryCrossentropy(from_logits=True), metrics=['acc'], optimizer='adam')\n",
    "model.summary()"
   ]
  },
  {
   "cell_type": "markdown",
   "id": "28c12a5e",
   "metadata": {
    "papermill": {
     "duration": 0.005494,
     "end_time": "2022-07-25T11:56:13.879738",
     "exception": false,
     "start_time": "2022-07-25T11:56:13.874244",
     "status": "completed"
    },
    "tags": []
   },
   "source": [
    "# Training"
   ]
  },
  {
   "cell_type": "code",
   "execution_count": 67,
   "id": "b71c3a6f",
   "metadata": {
    "execution": {
     "iopub.execute_input": "2022-07-25T11:56:13.893858Z",
     "iopub.status.busy": "2022-07-25T11:56:13.892775Z",
     "iopub.status.idle": "2022-07-25T11:56:17.531714Z",
     "shell.execute_reply": "2022-07-25T11:56:17.530148Z"
    },
    "papermill": {
     "duration": 3.648724,
     "end_time": "2022-07-25T11:56:17.534295",
     "exception": false,
     "start_time": "2022-07-25T11:56:13.885571",
     "status": "completed"
    },
    "tags": []
   },
   "outputs": [
    {
     "name": "stdout",
     "output_type": "stream",
     "text": [
      "Epoch 1/50\n"
     ]
    },
    {
     "name": "stderr",
     "output_type": "stream",
     "text": [
      "C:\\Users\\kang4\\AppData\\Local\\Programs\\Python\\Python310\\lib\\site-packages\\keras\\backend.py:5673: UserWarning: \"`binary_crossentropy` received `from_logits=True`, but the `output` argument was produced by a Sigmoid activation and thus does not represent logits. Was this intended?\n",
      "  output, from_logits = _get_logits(\n"
     ]
    },
    {
     "name": "stdout",
     "output_type": "stream",
     "text": [
      "6/6 - 2s - loss: 0.7266 - acc: 0.3333 - val_loss: 0.6934 - val_acc: 0.7500 - 2s/epoch - 261ms/step\n",
      "Epoch 2/50\n",
      "6/6 - 0s - loss: 0.6711 - acc: 0.7037 - val_loss: 0.6593 - val_acc: 0.7778 - 76ms/epoch - 13ms/step\n",
      "Epoch 3/50\n",
      "6/6 - 0s - loss: 0.6247 - acc: 0.8457 - val_loss: 0.6010 - val_acc: 0.8056 - 84ms/epoch - 14ms/step\n",
      "Epoch 4/50\n",
      "6/6 - 0s - loss: 0.5689 - acc: 0.8611 - val_loss: 0.5407 - val_acc: 0.8889 - 84ms/epoch - 14ms/step\n",
      "Epoch 5/50\n",
      "6/6 - 0s - loss: 0.5075 - acc: 0.9105 - val_loss: 0.4834 - val_acc: 0.8611 - 83ms/epoch - 14ms/step\n",
      "Epoch 6/50\n",
      "6/6 - 0s - loss: 0.4619 - acc: 0.8673 - val_loss: 0.4341 - val_acc: 0.8333 - 95ms/epoch - 16ms/step\n",
      "Epoch 7/50\n",
      "6/6 - 0s - loss: 0.4024 - acc: 0.9352 - val_loss: 0.3646 - val_acc: 0.9722 - 93ms/epoch - 16ms/step\n",
      "Epoch 8/50\n",
      "6/6 - 0s - loss: 0.3607 - acc: 0.9506 - val_loss: 0.3101 - val_acc: 0.9722 - 84ms/epoch - 14ms/step\n",
      "Epoch 9/50\n",
      "6/6 - 0s - loss: 0.3118 - acc: 0.9537 - val_loss: 0.2611 - val_acc: 0.9722 - 83ms/epoch - 14ms/step\n",
      "Epoch 10/50\n",
      "6/6 - 0s - loss: 0.2675 - acc: 0.9537 - val_loss: 0.2211 - val_acc: 0.9722 - 82ms/epoch - 14ms/step\n",
      "Epoch 11/50\n",
      "6/6 - 0s - loss: 0.2354 - acc: 0.9537 - val_loss: 0.1871 - val_acc: 0.9722 - 88ms/epoch - 15ms/step\n",
      "Epoch 12/50\n",
      "6/6 - 0s - loss: 0.2071 - acc: 0.9537 - val_loss: 0.1620 - val_acc: 0.9722 - 89ms/epoch - 15ms/step\n",
      "Epoch 13/50\n",
      "6/6 - 0s - loss: 0.1861 - acc: 0.9506 - val_loss: 0.1453 - val_acc: 0.9722 - 75ms/epoch - 13ms/step\n",
      "Epoch 14/50\n",
      "6/6 - 0s - loss: 0.1755 - acc: 0.9506 - val_loss: 0.1612 - val_acc: 0.8889 - 80ms/epoch - 13ms/step\n",
      "Epoch 15/50\n",
      "6/6 - 0s - loss: 0.1641 - acc: 0.9537 - val_loss: 0.1242 - val_acc: 0.9722 - 83ms/epoch - 14ms/step\n",
      "Epoch 16/50\n",
      "6/6 - 0s - loss: 0.1493 - acc: 0.9475 - val_loss: 0.1168 - val_acc: 0.9722 - 77ms/epoch - 13ms/step\n",
      "Epoch 17/50\n",
      "6/6 - 0s - loss: 0.1410 - acc: 0.9475 - val_loss: 0.1091 - val_acc: 0.9722 - 72ms/epoch - 12ms/step\n",
      "Epoch 18/50\n",
      "6/6 - 0s - loss: 0.1307 - acc: 0.9537 - val_loss: 0.1071 - val_acc: 0.9722 - 84ms/epoch - 14ms/step\n",
      "Epoch 19/50\n",
      "6/6 - 0s - loss: 0.1350 - acc: 0.9630 - val_loss: 0.1023 - val_acc: 0.9722 - 80ms/epoch - 13ms/step\n",
      "Epoch 20/50\n",
      "6/6 - 0s - loss: 0.1379 - acc: 0.9475 - val_loss: 0.1186 - val_acc: 0.9722 - 87ms/epoch - 14ms/step\n",
      "Epoch 21/50\n",
      "6/6 - 0s - loss: 0.1320 - acc: 0.9568 - val_loss: 0.1055 - val_acc: 0.9722 - 85ms/epoch - 14ms/step\n",
      "Epoch 22/50\n",
      "6/6 - 0s - loss: 0.1269 - acc: 0.9630 - val_loss: 0.0943 - val_acc: 0.9722 - 91ms/epoch - 15ms/step\n",
      "Epoch 23/50\n",
      "6/6 - 0s - loss: 0.1136 - acc: 0.9630 - val_loss: 0.0946 - val_acc: 0.9722 - 79ms/epoch - 13ms/step\n",
      "Epoch 24/50\n",
      "6/6 - 0s - loss: 0.1145 - acc: 0.9568 - val_loss: 0.0957 - val_acc: 0.9722 - 78ms/epoch - 13ms/step\n",
      "Epoch 25/50\n",
      "6/6 - 0s - loss: 0.1075 - acc: 0.9660 - val_loss: 0.0877 - val_acc: 0.9722 - 82ms/epoch - 14ms/step\n",
      "Epoch 26/50\n",
      "6/6 - 0s - loss: 0.1033 - acc: 0.9630 - val_loss: 0.0869 - val_acc: 0.9722 - 80ms/epoch - 13ms/step\n",
      "Epoch 27/50\n",
      "6/6 - 0s - loss: 0.0997 - acc: 0.9630 - val_loss: 0.0917 - val_acc: 0.9722 - 73ms/epoch - 12ms/step\n",
      "Epoch 28/50\n",
      "6/6 - 0s - loss: 0.1028 - acc: 0.9630 - val_loss: 0.0847 - val_acc: 0.9722 - 97ms/epoch - 16ms/step\n",
      "Epoch 29/50\n",
      "6/6 - 0s - loss: 0.0944 - acc: 0.9630 - val_loss: 0.0901 - val_acc: 0.9722 - 89ms/epoch - 15ms/step\n",
      "Epoch 30/50\n",
      "6/6 - 0s - loss: 0.0984 - acc: 0.9753 - val_loss: 0.0858 - val_acc: 0.9722 - 88ms/epoch - 15ms/step\n",
      "Epoch 31/50\n",
      "6/6 - 0s - loss: 0.0916 - acc: 0.9630 - val_loss: 0.0875 - val_acc: 0.9722 - 90ms/epoch - 15ms/step\n",
      "Epoch 32/50\n",
      "6/6 - 0s - loss: 0.0900 - acc: 0.9630 - val_loss: 0.0826 - val_acc: 0.9722 - 78ms/epoch - 13ms/step\n",
      "Epoch 33/50\n",
      "6/6 - 0s - loss: 0.0869 - acc: 0.9630 - val_loss: 0.0796 - val_acc: 0.9722 - 87ms/epoch - 15ms/step\n",
      "Epoch 34/50\n",
      "6/6 - 0s - loss: 0.0850 - acc: 0.9660 - val_loss: 0.0781 - val_acc: 0.9722 - 70ms/epoch - 12ms/step\n",
      "Epoch 35/50\n",
      "6/6 - 0s - loss: 0.0831 - acc: 0.9660 - val_loss: 0.0769 - val_acc: 0.9722 - 77ms/epoch - 13ms/step\n",
      "Epoch 36/50\n",
      "6/6 - 0s - loss: 0.0845 - acc: 0.9691 - val_loss: 0.0749 - val_acc: 0.9722 - 72ms/epoch - 12ms/step\n",
      "Epoch 37/50\n",
      "6/6 - 0s - loss: 0.0793 - acc: 0.9660 - val_loss: 0.0758 - val_acc: 0.9722 - 78ms/epoch - 13ms/step\n",
      "Epoch 38/50\n",
      "6/6 - 0s - loss: 0.0816 - acc: 0.9568 - val_loss: 0.0750 - val_acc: 0.9722 - 73ms/epoch - 12ms/step\n",
      "Epoch 39/50\n",
      "6/6 - 0s - loss: 0.0787 - acc: 0.9722 - val_loss: 0.0763 - val_acc: 0.9722 - 69ms/epoch - 12ms/step\n",
      "Epoch 40/50\n",
      "6/6 - 0s - loss: 0.0812 - acc: 0.9753 - val_loss: 0.0747 - val_acc: 0.9722 - 80ms/epoch - 13ms/step\n",
      "Epoch 41/50\n",
      "6/6 - 0s - loss: 0.0766 - acc: 0.9660 - val_loss: 0.0881 - val_acc: 0.9722 - 78ms/epoch - 13ms/step\n",
      "Epoch 42/50\n",
      "6/6 - 0s - loss: 0.0791 - acc: 0.9691 - val_loss: 0.0713 - val_acc: 0.9722 - 83ms/epoch - 14ms/step\n",
      "Epoch 43/50\n",
      "6/6 - 0s - loss: 0.0712 - acc: 0.9722 - val_loss: 0.0686 - val_acc: 0.9722 - 87ms/epoch - 15ms/step\n",
      "Epoch 44/50\n",
      "6/6 - 0s - loss: 0.0700 - acc: 0.9722 - val_loss: 0.0685 - val_acc: 0.9722 - 79ms/epoch - 13ms/step\n",
      "Epoch 45/50\n",
      "6/6 - 0s - loss: 0.0717 - acc: 0.9753 - val_loss: 0.0635 - val_acc: 0.9722 - 79ms/epoch - 13ms/step\n",
      "Epoch 46/50\n",
      "6/6 - 0s - loss: 0.0683 - acc: 0.9753 - val_loss: 0.0770 - val_acc: 0.9722 - 70ms/epoch - 12ms/step\n",
      "Epoch 47/50\n",
      "6/6 - 0s - loss: 0.1143 - acc: 0.9475 - val_loss: 0.0952 - val_acc: 0.9722 - 82ms/epoch - 14ms/step\n",
      "Epoch 48/50\n",
      "6/6 - 0s - loss: 0.0999 - acc: 0.9537 - val_loss: 0.2370 - val_acc: 0.8333 - 86ms/epoch - 14ms/step\n",
      "Epoch 49/50\n",
      "6/6 - 0s - loss: 0.1641 - acc: 0.9228 - val_loss: 0.0720 - val_acc: 0.9722 - 73ms/epoch - 12ms/step\n",
      "Epoch 50/50\n",
      "6/6 - 0s - loss: 0.0810 - acc: 0.9691 - val_loss: 0.1107 - val_acc: 0.9722 - 78ms/epoch - 13ms/step\n"
     ]
    },
    {
     "data": {
      "text/plain": [
       "<keras.callbacks.History at 0x1e8e6fa10c0>"
      ]
     },
     "execution_count": 67,
     "metadata": {},
     "output_type": "execute_result"
    }
   ],
   "source": [
    "model.fit(X_train, y_train,epochs=50,batch_size=64,validation_split=0.10, verbose=2)"
   ]
  },
  {
   "cell_type": "markdown",
   "id": "5ac93626",
   "metadata": {
    "papermill": {
     "duration": 0.011749,
     "end_time": "2022-07-25T11:56:17.558706",
     "exception": false,
     "start_time": "2022-07-25T11:56:17.546957",
     "status": "completed"
    },
    "tags": []
   },
   "source": [
    "# Evaluating"
   ]
  },
  {
   "cell_type": "code",
   "execution_count": 69,
   "id": "7162875f",
   "metadata": {
    "execution": {
     "iopub.execute_input": "2022-07-25T11:56:17.583578Z",
     "iopub.status.busy": "2022-07-25T11:56:17.583168Z",
     "iopub.status.idle": "2022-07-25T11:56:17.653230Z",
     "shell.execute_reply": "2022-07-25T11:56:17.652030Z"
    },
    "papermill": {
     "duration": 0.085272,
     "end_time": "2022-07-25T11:56:17.655503",
     "exception": false,
     "start_time": "2022-07-25T11:56:17.570231",
     "status": "completed"
    },
    "tags": []
   },
   "outputs": [
    {
     "name": "stdout",
     "output_type": "stream",
     "text": [
      "2/2 [==============================] - 0s 9ms/step - loss: 0.1043 - acc: 0.9750\n"
     ]
    },
    {
     "data": {
      "text/plain": [
       "[0.10430967807769775, 0.9750000238418579]"
      ]
     },
     "execution_count": 69,
     "metadata": {},
     "output_type": "execute_result"
    }
   ],
   "source": [
    "model.evaluate(X_test, y_test)"
   ]
  },
  {
   "cell_type": "markdown",
   "id": "d4bedecf",
   "metadata": {
    "papermill": {
     "duration": 0.011587,
     "end_time": "2022-07-25T11:56:17.678914",
     "exception": false,
     "start_time": "2022-07-25T11:56:17.667327",
     "status": "completed"
    },
    "tags": []
   },
   "source": [
    "# Result: He was hair loss!!!"
   ]
  },
  {
   "cell_type": "code",
   "execution_count": 75,
   "id": "a207ccc2",
   "metadata": {
    "execution": {
     "iopub.execute_input": "2022-07-25T11:56:17.704540Z",
     "iopub.status.busy": "2022-07-25T11:56:17.703566Z",
     "iopub.status.idle": "2022-07-25T11:56:17.845252Z",
     "shell.execute_reply": "2022-07-25T11:56:17.843802Z"
    },
    "papermill": {
     "duration": 0.157162,
     "end_time": "2022-07-25T11:56:17.847794",
     "exception": false,
     "start_time": "2022-07-25T11:56:17.690632",
     "status": "completed"
    },
    "tags": []
   },
   "outputs": [
    {
     "name": "stdout",
     "output_type": "stream",
     "text": [
      "1/1 [==============================] - 0s 48ms/step\n"
     ]
    },
    {
     "data": {
      "text/plain": [
       "array([[0.9000735]], dtype=float32)"
      ]
     },
     "execution_count": 75,
     "metadata": {},
     "output_type": "execute_result"
    }
   ],
   "source": [
    "model.predict(np.array([[3,2,3,1,2,3,1]]))\n",
    "\n"
   ]
  },
  {
   "cell_type": "code",
   "execution_count": null,
   "id": "11e4a8a9",
   "metadata": {},
   "outputs": [],
   "source": []
  },
  {
   "cell_type": "code",
   "execution_count": null,
   "id": "a571d23e",
   "metadata": {},
   "outputs": [],
   "source": []
  }
 ],
 "metadata": {
  "kernelspec": {
   "display_name": "Python 3 (ipykernel)",
   "language": "python",
   "name": "python3"
  },
  "language_info": {
   "codemirror_mode": {
    "name": "ipython",
    "version": 3
   },
   "file_extension": ".py",
   "mimetype": "text/x-python",
   "name": "python",
   "nbconvert_exporter": "python",
   "pygments_lexer": "ipython3",
   "version": "3.10.7"
  },
  "papermill": {
   "default_parameters": {},
   "duration": 24.602236,
   "end_time": "2022-07-25T11:56:20.511640",
   "environment_variables": {},
   "exception": null,
   "input_path": "__notebook__.ipynb",
   "output_path": "__notebook__.ipynb",
   "parameters": {},
   "start_time": "2022-07-25T11:55:55.909404",
   "version": "2.3.4"
  }
 },
 "nbformat": 4,
 "nbformat_minor": 5
}
