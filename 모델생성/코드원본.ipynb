{
 "cells": [
  {
   "cell_type": "code",
   "execution_count": 1,
   "id": "0bedc6f4",
   "metadata": {
    "execution": {
     "iopub.execute_input": "2022-07-25T11:56:05.530489Z",
     "iopub.status.busy": "2022-07-25T11:56:05.529875Z",
     "iopub.status.idle": "2022-07-25T11:56:12.031340Z",
     "shell.execute_reply": "2022-07-25T11:56:12.030284Z"
    },
    "papermill": {
     "duration": 6.513002,
     "end_time": "2022-07-25T11:56:12.034484",
     "exception": false,
     "start_time": "2022-07-25T11:56:05.521482",
     "status": "completed"
    },
    "tags": []
   },
   "outputs": [
    {
     "ename": "ModuleNotFoundError",
     "evalue": "No module named 'tensorflow'",
     "output_type": "error",
     "traceback": [
      "\u001b[1;31m---------------------------------------------------------------------------\u001b[0m",
      "\u001b[1;31mModuleNotFoundError\u001b[0m                       Traceback (most recent call last)",
      "Cell \u001b[1;32mIn [1], line 1\u001b[0m\n\u001b[1;32m----> 1\u001b[0m \u001b[38;5;28;01mimport\u001b[39;00m \u001b[38;5;21;01mtensorflow\u001b[39;00m \u001b[38;5;28;01mas\u001b[39;00m \u001b[38;5;21;01mtf\u001b[39;00m\n\u001b[0;32m      2\u001b[0m \u001b[38;5;28;01mimport\u001b[39;00m \u001b[38;5;21;01mnumpy\u001b[39;00m \u001b[38;5;28;01mas\u001b[39;00m \u001b[38;5;21;01mnp\u001b[39;00m\n\u001b[0;32m      3\u001b[0m \u001b[38;5;28;01mimport\u001b[39;00m \u001b[38;5;21;01msklearn\u001b[39;00m \u001b[38;5;28;01mas\u001b[39;00m \u001b[38;5;21;01msk\u001b[39;00m\n",
      "\u001b[1;31mModuleNotFoundError\u001b[0m: No module named 'tensorflow'"
     ]
    }
   ],
   "source": [
    "import tensorflow as tf\n",
    "import numpy as np\n",
    "import sklearn as sk\n",
    "import pandas as pd\n",
    "from sklearn.model_selection import train_test_split\n",
    "import matplotlib.pyplot as plt\n"
   ]
  },
  {
   "cell_type": "markdown",
   "id": "c20c4355",
   "metadata": {
    "papermill": {
     "duration": 0.004608,
     "end_time": "2022-07-25T11:56:12.044368",
     "exception": false,
     "start_time": "2022-07-25T11:56:12.039760",
     "status": "completed"
    },
    "tags": []
   },
   "source": [
    "# Load Data"
   ]
  },
  {
   "cell_type": "code",
   "execution_count": 2,
   "id": "f480680f",
   "metadata": {
    "execution": {
     "iopub.execute_input": "2022-07-25T11:56:12.056181Z",
     "iopub.status.busy": "2022-07-25T11:56:12.055306Z",
     "iopub.status.idle": "2022-07-25T11:56:12.101632Z",
     "shell.execute_reply": "2022-07-25T11:56:12.100792Z"
    },
    "papermill": {
     "duration": 0.054805,
     "end_time": "2022-07-25T11:56:12.104088",
     "exception": false,
     "start_time": "2022-07-25T11:56:12.049283",
     "status": "completed"
    },
    "tags": []
   },
   "outputs": [
    {
     "data": {
      "text/html": [
       "<div>\n",
       "<style scoped>\n",
       "    .dataframe tbody tr th:only-of-type {\n",
       "        vertical-align: middle;\n",
       "    }\n",
       "\n",
       "    .dataframe tbody tr th {\n",
       "        vertical-align: top;\n",
       "    }\n",
       "\n",
       "    .dataframe thead th {\n",
       "        text-align: right;\n",
       "    }\n",
       "</style>\n",
       "<table border=\"1\" class=\"dataframe\">\n",
       "  <thead>\n",
       "    <tr style=\"text-align: right;\">\n",
       "      <th></th>\n",
       "      <th>date</th>\n",
       "      <th>hair_loss</th>\n",
       "      <th>stay_up_late</th>\n",
       "      <th>pressure_level</th>\n",
       "      <th>coffee_consumed</th>\n",
       "      <th>brain_working_duration</th>\n",
       "      <th>school_assesssment</th>\n",
       "      <th>stress_level</th>\n",
       "      <th>shampoo_brand</th>\n",
       "      <th>swimming</th>\n",
       "      <th>hair_washing</th>\n",
       "      <th>hair_grease</th>\n",
       "      <th>dandruff</th>\n",
       "      <th>libido</th>\n",
       "    </tr>\n",
       "  </thead>\n",
       "  <tbody>\n",
       "    <tr>\n",
       "      <th>0</th>\n",
       "      <td>1/01/2021</td>\n",
       "      <td>Few</td>\n",
       "      <td>2</td>\n",
       "      <td>Low</td>\n",
       "      <td>0</td>\n",
       "      <td>1</td>\n",
       "      <td>None</td>\n",
       "      <td>Low</td>\n",
       "      <td>Pantene</td>\n",
       "      <td>No</td>\n",
       "      <td>Y</td>\n",
       "      <td>3.0</td>\n",
       "      <td>None</td>\n",
       "      <td>1</td>\n",
       "    </tr>\n",
       "    <tr>\n",
       "      <th>1</th>\n",
       "      <td>2/01/2021</td>\n",
       "      <td>Few</td>\n",
       "      <td>0</td>\n",
       "      <td>Low</td>\n",
       "      <td>0</td>\n",
       "      <td>3</td>\n",
       "      <td>None</td>\n",
       "      <td>Low</td>\n",
       "      <td>Pantene</td>\n",
       "      <td>No</td>\n",
       "      <td>N</td>\n",
       "      <td>1.0</td>\n",
       "      <td>None</td>\n",
       "      <td>1</td>\n",
       "    </tr>\n",
       "    <tr>\n",
       "      <th>2</th>\n",
       "      <td>3/01/2021</td>\n",
       "      <td>Medium</td>\n",
       "      <td>3</td>\n",
       "      <td>Low</td>\n",
       "      <td>1</td>\n",
       "      <td>0</td>\n",
       "      <td>None</td>\n",
       "      <td>Low</td>\n",
       "      <td>Pantene</td>\n",
       "      <td>Yes</td>\n",
       "      <td>Y</td>\n",
       "      <td>2.0</td>\n",
       "      <td>None</td>\n",
       "      <td>2</td>\n",
       "    </tr>\n",
       "    <tr>\n",
       "      <th>3</th>\n",
       "      <td>4/01/2021</td>\n",
       "      <td>Few</td>\n",
       "      <td>2</td>\n",
       "      <td>Low</td>\n",
       "      <td>0</td>\n",
       "      <td>1</td>\n",
       "      <td>None</td>\n",
       "      <td>Low</td>\n",
       "      <td>Pantene</td>\n",
       "      <td>No</td>\n",
       "      <td>N</td>\n",
       "      <td>3.0</td>\n",
       "      <td>None</td>\n",
       "      <td>3</td>\n",
       "    </tr>\n",
       "    <tr>\n",
       "      <th>4</th>\n",
       "      <td>5/01/2021</td>\n",
       "      <td>Few</td>\n",
       "      <td>2</td>\n",
       "      <td>Low</td>\n",
       "      <td>0</td>\n",
       "      <td>1</td>\n",
       "      <td>None</td>\n",
       "      <td>Low</td>\n",
       "      <td>Pantene</td>\n",
       "      <td>No</td>\n",
       "      <td>Y</td>\n",
       "      <td>1.0</td>\n",
       "      <td>None</td>\n",
       "      <td>2</td>\n",
       "    </tr>\n",
       "  </tbody>\n",
       "</table>\n",
       "</div>"
      ],
      "text/plain": [
       "       date  hair_loss  stay_up_late pressure_level  coffee_consumed  \\\n",
       "0  1/01/2021       Few             2            Low                0   \n",
       "1  2/01/2021       Few             0            Low                0   \n",
       "2  3/01/2021    Medium             3            Low                1   \n",
       "3  4/01/2021       Few             2            Low                0   \n",
       "4  5/01/2021       Few             2            Low                0   \n",
       "\n",
       "   brain_working_duration school_assesssment stress_level shampoo_brand  \\\n",
       "0                       1               None          Low       Pantene   \n",
       "1                       3               None          Low       Pantene   \n",
       "2                       0               None          Low       Pantene   \n",
       "3                       1               None          Low       Pantene   \n",
       "4                       1               None          Low       Pantene   \n",
       "\n",
       "  swimming hair_washing  hair_grease dandruff  libido  \n",
       "0       No            Y          3.0     None       1  \n",
       "1       No            N          1.0     None       1  \n",
       "2      Yes            Y          2.0     None       2  \n",
       "3       No            N          3.0     None       3  \n",
       "4       No            Y          1.0     None       2  "
      ]
     },
     "execution_count": 2,
     "metadata": {},
     "output_type": "execute_result"
    }
   ],
   "source": [
    "df = pd.read_csv('../input/luke-hair-loss-dataset/Luke_hair_loss_documentation.csv')\n",
    "df.head()"
   ]
  },
  {
   "cell_type": "markdown",
   "id": "ef9b7076",
   "metadata": {
    "papermill": {
     "duration": 0.005107,
     "end_time": "2022-07-25T11:56:12.114667",
     "exception": false,
     "start_time": "2022-07-25T11:56:12.109560",
     "status": "completed"
    },
    "tags": []
   },
   "source": [
    "# Proccessing Data"
   ]
  },
  {
   "cell_type": "code",
   "execution_count": 3,
   "id": "28cd9c5f",
   "metadata": {
    "execution": {
     "iopub.execute_input": "2022-07-25T11:56:12.127314Z",
     "iopub.status.busy": "2022-07-25T11:56:12.126706Z",
     "iopub.status.idle": "2022-07-25T11:56:12.161988Z",
     "shell.execute_reply": "2022-07-25T11:56:12.160851Z"
    },
    "papermill": {
     "duration": 0.044561,
     "end_time": "2022-07-25T11:56:12.164509",
     "exception": false,
     "start_time": "2022-07-25T11:56:12.119948",
     "status": "completed"
    },
    "tags": []
   },
   "outputs": [
    {
     "data": {
      "text/html": [
       "<div>\n",
       "<style scoped>\n",
       "    .dataframe tbody tr th:only-of-type {\n",
       "        vertical-align: middle;\n",
       "    }\n",
       "\n",
       "    .dataframe tbody tr th {\n",
       "        vertical-align: top;\n",
       "    }\n",
       "\n",
       "    .dataframe thead th {\n",
       "        text-align: right;\n",
       "    }\n",
       "</style>\n",
       "<table border=\"1\" class=\"dataframe\">\n",
       "  <thead>\n",
       "    <tr style=\"text-align: right;\">\n",
       "      <th></th>\n",
       "      <th>date</th>\n",
       "      <th>hair_loss</th>\n",
       "      <th>stay_up_late</th>\n",
       "      <th>pressure_level</th>\n",
       "      <th>coffee_consumed</th>\n",
       "      <th>brain_working_duration</th>\n",
       "      <th>school_assesssment</th>\n",
       "      <th>stress_level</th>\n",
       "      <th>shampoo_brand</th>\n",
       "      <th>swimming</th>\n",
       "      <th>hair_washing</th>\n",
       "      <th>hair_grease</th>\n",
       "      <th>dandruff</th>\n",
       "      <th>libido</th>\n",
       "    </tr>\n",
       "  </thead>\n",
       "  <tbody>\n",
       "    <tr>\n",
       "      <th>0</th>\n",
       "      <td>1/01/2021</td>\n",
       "      <td>0</td>\n",
       "      <td>2</td>\n",
       "      <td>0</td>\n",
       "      <td>0</td>\n",
       "      <td>1</td>\n",
       "      <td>None</td>\n",
       "      <td>0</td>\n",
       "      <td>Pantene</td>\n",
       "      <td>0</td>\n",
       "      <td>Y</td>\n",
       "      <td>3.0</td>\n",
       "      <td>0</td>\n",
       "      <td>1</td>\n",
       "    </tr>\n",
       "    <tr>\n",
       "      <th>1</th>\n",
       "      <td>2/01/2021</td>\n",
       "      <td>0</td>\n",
       "      <td>0</td>\n",
       "      <td>0</td>\n",
       "      <td>0</td>\n",
       "      <td>3</td>\n",
       "      <td>None</td>\n",
       "      <td>0</td>\n",
       "      <td>Pantene</td>\n",
       "      <td>0</td>\n",
       "      <td>N</td>\n",
       "      <td>1.0</td>\n",
       "      <td>0</td>\n",
       "      <td>1</td>\n",
       "    </tr>\n",
       "    <tr>\n",
       "      <th>2</th>\n",
       "      <td>3/01/2021</td>\n",
       "      <td>0</td>\n",
       "      <td>3</td>\n",
       "      <td>0</td>\n",
       "      <td>1</td>\n",
       "      <td>0</td>\n",
       "      <td>None</td>\n",
       "      <td>0</td>\n",
       "      <td>Pantene</td>\n",
       "      <td>1</td>\n",
       "      <td>Y</td>\n",
       "      <td>2.0</td>\n",
       "      <td>0</td>\n",
       "      <td>2</td>\n",
       "    </tr>\n",
       "    <tr>\n",
       "      <th>3</th>\n",
       "      <td>4/01/2021</td>\n",
       "      <td>0</td>\n",
       "      <td>2</td>\n",
       "      <td>0</td>\n",
       "      <td>0</td>\n",
       "      <td>1</td>\n",
       "      <td>None</td>\n",
       "      <td>0</td>\n",
       "      <td>Pantene</td>\n",
       "      <td>0</td>\n",
       "      <td>N</td>\n",
       "      <td>3.0</td>\n",
       "      <td>0</td>\n",
       "      <td>3</td>\n",
       "    </tr>\n",
       "    <tr>\n",
       "      <th>4</th>\n",
       "      <td>5/01/2021</td>\n",
       "      <td>0</td>\n",
       "      <td>2</td>\n",
       "      <td>0</td>\n",
       "      <td>0</td>\n",
       "      <td>1</td>\n",
       "      <td>None</td>\n",
       "      <td>0</td>\n",
       "      <td>Pantene</td>\n",
       "      <td>0</td>\n",
       "      <td>Y</td>\n",
       "      <td>1.0</td>\n",
       "      <td>0</td>\n",
       "      <td>2</td>\n",
       "    </tr>\n",
       "  </tbody>\n",
       "</table>\n",
       "</div>"
      ],
      "text/plain": [
       "       date   hair_loss  stay_up_late  pressure_level  coffee_consumed  \\\n",
       "0  1/01/2021          0             2               0                0   \n",
       "1  2/01/2021          0             0               0                0   \n",
       "2  3/01/2021          0             3               0                1   \n",
       "3  4/01/2021          0             2               0                0   \n",
       "4  5/01/2021          0             2               0                0   \n",
       "\n",
       "   brain_working_duration school_assesssment  stress_level shampoo_brand  \\\n",
       "0                       1               None             0       Pantene   \n",
       "1                       3               None             0       Pantene   \n",
       "2                       0               None             0       Pantene   \n",
       "3                       1               None             0       Pantene   \n",
       "4                       1               None             0       Pantene   \n",
       "\n",
       "   swimming hair_washing  hair_grease  dandruff  libido  \n",
       "0         0            Y          3.0         0       1  \n",
       "1         0            N          1.0         0       1  \n",
       "2         1            Y          2.0         0       2  \n",
       "3         0            N          3.0         0       3  \n",
       "4         0            Y          1.0         0       2  "
      ]
     },
     "execution_count": 3,
     "metadata": {},
     "output_type": "execute_result"
    }
   ],
   "source": [
    "df['dandruff'].replace('None',0,inplace=True)\n",
    "df['dandruff'].replace('Few',1,inplace=True)\n",
    "df['dandruff'].replace('Many',2, inplace=True)\n",
    "\n",
    "df['hair_loss'].replace(\"Few\", 0, inplace=True)\n",
    "df['hair_loss'].replace(\"Medium\", 0, inplace=True)\n",
    "df['hair_loss'].replace(\"Many\", 1, inplace=True)\n",
    "df['hair_loss'].replace(\"A lot\", 1, inplace=True)\n",
    "\n",
    "df['swimming'].replace('Yes', 1, inplace=True)\n",
    "df['swimming'].replace('No', 0, inplace=True)\n",
    "\n",
    "df.replace('Low', 0, inplace=True)\n",
    "df.replace('Medium', 1, inplace=True)\n",
    "df.replace('High', 2, inplace=True)\n",
    "df.replace('Very High', 3, inplace=True)\n",
    "\n",
    "\n",
    "\n",
    "df.head()\n"
   ]
  },
  {
   "cell_type": "code",
   "execution_count": 4,
   "id": "9934318a",
   "metadata": {
    "execution": {
     "iopub.execute_input": "2022-07-25T11:56:12.179748Z",
     "iopub.status.busy": "2022-07-25T11:56:12.177341Z",
     "iopub.status.idle": "2022-07-25T11:56:12.210405Z",
     "shell.execute_reply": "2022-07-25T11:56:12.208978Z"
    },
    "papermill": {
     "duration": 0.043498,
     "end_time": "2022-07-25T11:56:12.214055",
     "exception": false,
     "start_time": "2022-07-25T11:56:12.170557",
     "status": "completed"
    },
    "tags": []
   },
   "outputs": [
    {
     "name": "stdout",
     "output_type": "stream",
     "text": [
      "<class 'pandas.core.frame.DataFrame'>\n",
      "RangeIndex: 400 entries, 0 to 399\n",
      "Data columns (total 14 columns):\n",
      " #   Column                  Non-Null Count  Dtype  \n",
      "---  ------                  --------------  -----  \n",
      " 0   date                    400 non-null    object \n",
      " 1   hair_loss               400 non-null    int64  \n",
      " 2   stay_up_late            400 non-null    int64  \n",
      " 3   pressure_level          400 non-null    int64  \n",
      " 4   coffee_consumed         400 non-null    int64  \n",
      " 5   brain_working_duration  400 non-null    int64  \n",
      " 6   school_assesssment      400 non-null    object \n",
      " 7   stress_level            400 non-null    int64  \n",
      " 8   shampoo_brand           400 non-null    object \n",
      " 9   swimming                400 non-null    int64  \n",
      " 10  hair_washing            400 non-null    object \n",
      " 11  hair_grease             396 non-null    float64\n",
      " 12  dandruff                400 non-null    int64  \n",
      " 13  libido                  400 non-null    int64  \n",
      "dtypes: float64(1), int64(9), object(4)\n",
      "memory usage: 43.9+ KB\n"
     ]
    }
   ],
   "source": [
    "df.info()"
   ]
  },
  {
   "cell_type": "code",
   "execution_count": 5,
   "id": "b2a55176",
   "metadata": {
    "execution": {
     "iopub.execute_input": "2022-07-25T11:56:12.227562Z",
     "iopub.status.busy": "2022-07-25T11:56:12.227150Z",
     "iopub.status.idle": "2022-07-25T11:56:12.241969Z",
     "shell.execute_reply": "2022-07-25T11:56:12.240714Z"
    },
    "papermill": {
     "duration": 0.024677,
     "end_time": "2022-07-25T11:56:12.244473",
     "exception": false,
     "start_time": "2022-07-25T11:56:12.219796",
     "status": "completed"
    },
    "tags": []
   },
   "outputs": [
    {
     "data": {
      "text/plain": [
       "dandruff                  0.808751\n",
       "stress_level              0.784986\n",
       "pressure_level            0.779733\n",
       "hair_grease               0.682490\n",
       "coffee_consumed           0.671447\n",
       "brain_working_duration    0.591093\n",
       "stay_up_late              0.350551\n",
       "swimming                  0.240211\n",
       "libido                    0.140884\n",
       "Name: hair_loss, dtype: float64"
      ]
     },
     "execution_count": 5,
     "metadata": {},
     "output_type": "execute_result"
    }
   ],
   "source": [
    "plot_cols = df.corr().loc['stay_up_late':, 'hair_loss'].abs().sort_values(ascending=False)\n",
    "plot_cols"
   ]
  },
  {
   "cell_type": "code",
   "execution_count": 6,
   "id": "908034bd",
   "metadata": {
    "execution": {
     "iopub.execute_input": "2022-07-25T11:56:12.258645Z",
     "iopub.status.busy": "2022-07-25T11:56:12.257793Z",
     "iopub.status.idle": "2022-07-25T11:56:12.266463Z",
     "shell.execute_reply": "2022-07-25T11:56:12.265456Z"
    },
    "papermill": {
     "duration": 0.01892,
     "end_time": "2022-07-25T11:56:12.269053",
     "exception": false,
     "start_time": "2022-07-25T11:56:12.250133",
     "status": "completed"
    },
    "tags": []
   },
   "outputs": [],
   "source": [
    "X_df= df[['stress_level', 'pressure_level',\"dandruff\"]]"
   ]
  },
  {
   "cell_type": "code",
   "execution_count": 7,
   "id": "61cb4229",
   "metadata": {
    "execution": {
     "iopub.execute_input": "2022-07-25T11:56:12.283169Z",
     "iopub.status.busy": "2022-07-25T11:56:12.282742Z",
     "iopub.status.idle": "2022-07-25T11:56:12.291398Z",
     "shell.execute_reply": "2022-07-25T11:56:12.290115Z"
    },
    "papermill": {
     "duration": 0.019703,
     "end_time": "2022-07-25T11:56:12.294475",
     "exception": false,
     "start_time": "2022-07-25T11:56:12.274772",
     "status": "completed"
    },
    "tags": []
   },
   "outputs": [
    {
     "name": "stdout",
     "output_type": "stream",
     "text": [
      "(400,)\n",
      "(400, 3)\n"
     ]
    }
   ],
   "source": [
    "y_data = df['hair_loss'].to_numpy().astype(np.float16)\n",
    "print(y_data.shape)\n",
    "\n",
    "df.drop('hair_loss', axis=1, inplace=True)\n",
    "\n",
    "X_data = X_df.to_numpy().astype(np.float16)\n",
    "\n",
    "print(X_data.shape)"
   ]
  },
  {
   "cell_type": "markdown",
   "id": "23e6519b",
   "metadata": {
    "papermill": {
     "duration": 0.005851,
     "end_time": "2022-07-25T11:56:12.305919",
     "exception": false,
     "start_time": "2022-07-25T11:56:12.300068",
     "status": "completed"
    },
    "tags": []
   },
   "source": [
    "# Train Test Split"
   ]
  },
  {
   "cell_type": "code",
   "execution_count": 8,
   "id": "235bbe8c",
   "metadata": {
    "execution": {
     "iopub.execute_input": "2022-07-25T11:56:12.319530Z",
     "iopub.status.busy": "2022-07-25T11:56:12.319160Z",
     "iopub.status.idle": "2022-07-25T11:56:12.325953Z",
     "shell.execute_reply": "2022-07-25T11:56:12.324730Z"
    },
    "papermill": {
     "duration": 0.017332,
     "end_time": "2022-07-25T11:56:12.329130",
     "exception": false,
     "start_time": "2022-07-25T11:56:12.311798",
     "status": "completed"
    },
    "tags": []
   },
   "outputs": [
    {
     "name": "stdout",
     "output_type": "stream",
     "text": [
      "(380, 3)\n",
      "(20, 3)\n"
     ]
    }
   ],
   "source": [
    "X_train, X_test, y_train, y_test = train_test_split(X_data, y_data, test_size=0.05, random_state=42)\n",
    "print(X_train.shape)\n",
    "print(X_test.shape)"
   ]
  },
  {
   "cell_type": "markdown",
   "id": "4b02df98",
   "metadata": {
    "papermill": {
     "duration": 0.005455,
     "end_time": "2022-07-25T11:56:12.340240",
     "exception": false,
     "start_time": "2022-07-25T11:56:12.334785",
     "status": "completed"
    },
    "tags": []
   },
   "source": [
    "# Model Building"
   ]
  },
  {
   "cell_type": "code",
   "execution_count": 9,
   "id": "78c69164",
   "metadata": {
    "execution": {
     "iopub.execute_input": "2022-07-25T11:56:12.353772Z",
     "iopub.status.busy": "2022-07-25T11:56:12.352968Z",
     "iopub.status.idle": "2022-07-25T11:56:13.865576Z",
     "shell.execute_reply": "2022-07-25T11:56:13.861586Z"
    },
    "papermill": {
     "duration": 1.52231,
     "end_time": "2022-07-25T11:56:13.868187",
     "exception": false,
     "start_time": "2022-07-25T11:56:12.345877",
     "status": "completed"
    },
    "tags": []
   },
   "outputs": [
    {
     "name": "stdout",
     "output_type": "stream",
     "text": [
      "Model: \"sequential\"\n",
      "_________________________________________________________________\n",
      "Layer (type)                 Output Shape              Param #   \n",
      "=================================================================\n",
      "dense (Dense)                (None, 64)                256       \n",
      "_________________________________________________________________\n",
      "dense_1 (Dense)              (None, 32)                2080      \n",
      "_________________________________________________________________\n",
      "dense_2 (Dense)              (None, 16)                528       \n",
      "_________________________________________________________________\n",
      "dense_3 (Dense)              (None, 1)                 17        \n",
      "=================================================================\n",
      "Total params: 2,881\n",
      "Trainable params: 2,881\n",
      "Non-trainable params: 0\n",
      "_________________________________________________________________\n"
     ]
    },
    {
     "name": "stderr",
     "output_type": "stream",
     "text": [
      "2022-07-25 11:56:13.745977: I tensorflow/core/common_runtime/process_util.cc:146] Creating new thread pool with default inter op setting: 2. Tune using inter_op_parallelism_threads for best performance.\n"
     ]
    }
   ],
   "source": [
    "model = tf.keras.Sequential()\n",
    "\n",
    "model.add(tf.keras.layers.Input(shape=(3)))\n",
    "\n",
    "model.add(tf.keras.layers.Dense(64, activation='relu'))\n",
    "model.add(tf.keras.layers.Dense(32, activation='relu'))\n",
    "model.add(tf.keras.layers.Dense(16, activation='relu'))\n",
    "model.add(tf.keras.layers.Dense(1, activation='sigmoid'))\n",
    "\n",
    "model.compile(loss=tf.keras.losses.BinaryCrossentropy(from_logits=True), metrics=['acc'], optimizer='adam')\n",
    "model.summary()"
   ]
  },
  {
   "cell_type": "markdown",
   "id": "28c12a5e",
   "metadata": {
    "papermill": {
     "duration": 0.005494,
     "end_time": "2022-07-25T11:56:13.879738",
     "exception": false,
     "start_time": "2022-07-25T11:56:13.874244",
     "status": "completed"
    },
    "tags": []
   },
   "source": [
    "# Training"
   ]
  },
  {
   "cell_type": "code",
   "execution_count": 10,
   "id": "b71c3a6f",
   "metadata": {
    "execution": {
     "iopub.execute_input": "2022-07-25T11:56:13.893858Z",
     "iopub.status.busy": "2022-07-25T11:56:13.892775Z",
     "iopub.status.idle": "2022-07-25T11:56:17.531714Z",
     "shell.execute_reply": "2022-07-25T11:56:17.530148Z"
    },
    "papermill": {
     "duration": 3.648724,
     "end_time": "2022-07-25T11:56:17.534295",
     "exception": false,
     "start_time": "2022-07-25T11:56:13.885571",
     "status": "completed"
    },
    "tags": []
   },
   "outputs": [
    {
     "name": "stdout",
     "output_type": "stream",
     "text": [
      "Epoch 1/50\n"
     ]
    },
    {
     "name": "stderr",
     "output_type": "stream",
     "text": [
      "2022-07-25 11:56:13.979302: I tensorflow/compiler/mlir/mlir_graph_optimization_pass.cc:185] None of the MLIR Optimization Passes are enabled (registered 2)\n",
      "/opt/conda/lib/python3.7/site-packages/keras/backend.py:4994: UserWarning: \"`binary_crossentropy` received `from_logits=True`, but the `output` argument was produced by a sigmoid or softmax activation and thus does not represent logits. Was this intended?\"\n",
      "  '\"`binary_crossentropy` received `from_logits=True`, but the `output`'\n"
     ]
    },
    {
     "name": "stdout",
     "output_type": "stream",
     "text": [
      "6/6 - 1s - loss: 0.6817 - acc: 0.7544 - val_loss: 0.6587 - val_acc: 0.7632\n",
      "Epoch 2/50\n",
      "6/6 - 0s - loss: 0.6676 - acc: 0.7632 - val_loss: 0.6456 - val_acc: 0.8421\n",
      "Epoch 3/50\n",
      "6/6 - 0s - loss: 0.6546 - acc: 0.8596 - val_loss: 0.6333 - val_acc: 0.8947\n",
      "Epoch 4/50\n",
      "6/6 - 0s - loss: 0.6413 - acc: 0.8713 - val_loss: 0.6191 - val_acc: 0.8947\n",
      "Epoch 5/50\n",
      "6/6 - 0s - loss: 0.6265 - acc: 0.8947 - val_loss: 0.6032 - val_acc: 0.8947\n",
      "Epoch 6/50\n",
      "6/6 - 0s - loss: 0.6100 - acc: 0.9006 - val_loss: 0.5845 - val_acc: 0.8947\n",
      "Epoch 7/50\n",
      "6/6 - 0s - loss: 0.5919 - acc: 0.9064 - val_loss: 0.5645 - val_acc: 0.8947\n",
      "Epoch 8/50\n",
      "6/6 - 0s - loss: 0.5709 - acc: 0.9064 - val_loss: 0.5429 - val_acc: 0.8947\n",
      "Epoch 9/50\n",
      "6/6 - 0s - loss: 0.5464 - acc: 0.9064 - val_loss: 0.5173 - val_acc: 0.8947\n",
      "Epoch 10/50\n",
      "6/6 - 0s - loss: 0.5173 - acc: 0.9064 - val_loss: 0.4857 - val_acc: 0.8947\n",
      "Epoch 11/50\n",
      "6/6 - 0s - loss: 0.4842 - acc: 0.9152 - val_loss: 0.4507 - val_acc: 0.9737\n",
      "Epoch 12/50\n",
      "6/6 - 0s - loss: 0.4487 - acc: 0.9327 - val_loss: 0.4104 - val_acc: 0.9737\n",
      "Epoch 13/50\n",
      "6/6 - 0s - loss: 0.4103 - acc: 0.9503 - val_loss: 0.3704 - val_acc: 0.9737\n",
      "Epoch 14/50\n",
      "6/6 - 0s - loss: 0.3705 - acc: 0.9298 - val_loss: 0.3291 - val_acc: 0.9737\n",
      "Epoch 15/50\n",
      "6/6 - 0s - loss: 0.3300 - acc: 0.9298 - val_loss: 0.2885 - val_acc: 0.9737\n",
      "Epoch 16/50\n",
      "6/6 - 0s - loss: 0.2921 - acc: 0.9298 - val_loss: 0.2494 - val_acc: 0.9737\n",
      "Epoch 17/50\n",
      "6/6 - 0s - loss: 0.2568 - acc: 0.9298 - val_loss: 0.2158 - val_acc: 0.9737\n",
      "Epoch 18/50\n",
      "6/6 - 0s - loss: 0.2281 - acc: 0.9240 - val_loss: 0.1890 - val_acc: 0.9737\n",
      "Epoch 19/50\n",
      "6/6 - 0s - loss: 0.2015 - acc: 0.9269 - val_loss: 0.1610 - val_acc: 0.9737\n",
      "Epoch 20/50\n",
      "6/6 - 0s - loss: 0.1819 - acc: 0.9298 - val_loss: 0.1450 - val_acc: 0.9737\n",
      "Epoch 21/50\n",
      "6/6 - 0s - loss: 0.1659 - acc: 0.9298 - val_loss: 0.1294 - val_acc: 0.9737\n",
      "Epoch 22/50\n",
      "6/6 - 0s - loss: 0.1524 - acc: 0.9298 - val_loss: 0.1158 - val_acc: 0.9737\n",
      "Epoch 23/50\n",
      "6/6 - 0s - loss: 0.1448 - acc: 0.9357 - val_loss: 0.1079 - val_acc: 0.9737\n",
      "Epoch 24/50\n",
      "6/6 - 0s - loss: 0.1379 - acc: 0.9386 - val_loss: 0.0996 - val_acc: 0.9737\n",
      "Epoch 25/50\n",
      "6/6 - 0s - loss: 0.1302 - acc: 0.9240 - val_loss: 0.0969 - val_acc: 0.9737\n",
      "Epoch 26/50\n",
      "6/6 - 0s - loss: 0.1255 - acc: 0.9298 - val_loss: 0.0900 - val_acc: 0.9737\n",
      "Epoch 27/50\n",
      "6/6 - 0s - loss: 0.1231 - acc: 0.9386 - val_loss: 0.0870 - val_acc: 0.9737\n",
      "Epoch 28/50\n",
      "6/6 - 0s - loss: 0.1206 - acc: 0.9386 - val_loss: 0.0837 - val_acc: 0.9737\n",
      "Epoch 29/50\n",
      "6/6 - 0s - loss: 0.1188 - acc: 0.9298 - val_loss: 0.0836 - val_acc: 0.9737\n",
      "Epoch 30/50\n",
      "6/6 - 0s - loss: 0.1163 - acc: 0.9327 - val_loss: 0.0786 - val_acc: 0.9737\n",
      "Epoch 31/50\n",
      "6/6 - 0s - loss: 0.1148 - acc: 0.9386 - val_loss: 0.0766 - val_acc: 0.9737\n",
      "Epoch 32/50\n",
      "6/6 - 0s - loss: 0.1137 - acc: 0.9123 - val_loss: 0.0772 - val_acc: 0.9737\n",
      "Epoch 33/50\n",
      "6/6 - 0s - loss: 0.1148 - acc: 0.9415 - val_loss: 0.0741 - val_acc: 0.9737\n",
      "Epoch 34/50\n",
      "6/6 - 0s - loss: 0.1102 - acc: 0.9386 - val_loss: 0.0729 - val_acc: 0.9737\n",
      "Epoch 35/50\n",
      "6/6 - 0s - loss: 0.1095 - acc: 0.9357 - val_loss: 0.0761 - val_acc: 0.9737\n",
      "Epoch 36/50\n",
      "6/6 - 0s - loss: 0.1079 - acc: 0.9327 - val_loss: 0.0706 - val_acc: 0.9737\n",
      "Epoch 37/50\n",
      "6/6 - 0s - loss: 0.1075 - acc: 0.9386 - val_loss: 0.0697 - val_acc: 0.9737\n",
      "Epoch 38/50\n",
      "6/6 - 0s - loss: 0.1052 - acc: 0.9357 - val_loss: 0.0736 - val_acc: 0.9474\n",
      "Epoch 39/50\n",
      "6/6 - 0s - loss: 0.1058 - acc: 0.9298 - val_loss: 0.0737 - val_acc: 0.9474\n",
      "Epoch 40/50\n",
      "6/6 - 0s - loss: 0.1050 - acc: 0.9269 - val_loss: 0.0720 - val_acc: 0.9737\n",
      "Epoch 41/50\n",
      "6/6 - 0s - loss: 0.1073 - acc: 0.9240 - val_loss: 0.0744 - val_acc: 0.9474\n",
      "Epoch 42/50\n",
      "6/6 - 0s - loss: 0.1008 - acc: 0.9415 - val_loss: 0.0682 - val_acc: 0.9737\n",
      "Epoch 43/50\n",
      "6/6 - 0s - loss: 0.1085 - acc: 0.9386 - val_loss: 0.0694 - val_acc: 0.9737\n",
      "Epoch 44/50\n",
      "6/6 - 0s - loss: 0.1050 - acc: 0.9386 - val_loss: 0.0700 - val_acc: 0.9474\n",
      "Epoch 45/50\n",
      "6/6 - 0s - loss: 0.1020 - acc: 0.9298 - val_loss: 0.0745 - val_acc: 0.9474\n",
      "Epoch 46/50\n",
      "6/6 - 0s - loss: 0.1030 - acc: 0.9240 - val_loss: 0.0667 - val_acc: 0.9737\n",
      "Epoch 47/50\n",
      "6/6 - 0s - loss: 0.1012 - acc: 0.9386 - val_loss: 0.0658 - val_acc: 0.9737\n",
      "Epoch 48/50\n",
      "6/6 - 0s - loss: 0.1007 - acc: 0.9386 - val_loss: 0.0663 - val_acc: 0.9737\n",
      "Epoch 49/50\n",
      "6/6 - 0s - loss: 0.1004 - acc: 0.9357 - val_loss: 0.0677 - val_acc: 0.9474\n",
      "Epoch 50/50\n",
      "6/6 - 0s - loss: 0.1001 - acc: 0.9327 - val_loss: 0.0654 - val_acc: 0.9737\n"
     ]
    },
    {
     "data": {
      "text/plain": [
       "<keras.callbacks.History at 0x7f96d0198f50>"
      ]
     },
     "execution_count": 10,
     "metadata": {},
     "output_type": "execute_result"
    }
   ],
   "source": [
    "model.fit(X_train, y_train,epochs=50,batch_size=64,validation_split=0.10, verbose=2)"
   ]
  },
  {
   "cell_type": "markdown",
   "id": "5ac93626",
   "metadata": {
    "papermill": {
     "duration": 0.011749,
     "end_time": "2022-07-25T11:56:17.558706",
     "exception": false,
     "start_time": "2022-07-25T11:56:17.546957",
     "status": "completed"
    },
    "tags": []
   },
   "source": [
    "# Evaluating"
   ]
  },
  {
   "cell_type": "code",
   "execution_count": 11,
   "id": "7162875f",
   "metadata": {
    "execution": {
     "iopub.execute_input": "2022-07-25T11:56:17.583578Z",
     "iopub.status.busy": "2022-07-25T11:56:17.583168Z",
     "iopub.status.idle": "2022-07-25T11:56:17.653230Z",
     "shell.execute_reply": "2022-07-25T11:56:17.652030Z"
    },
    "papermill": {
     "duration": 0.085272,
     "end_time": "2022-07-25T11:56:17.655503",
     "exception": false,
     "start_time": "2022-07-25T11:56:17.570231",
     "status": "completed"
    },
    "tags": []
   },
   "outputs": [
    {
     "name": "stdout",
     "output_type": "stream",
     "text": [
      "1/1 [==============================] - 0s 30ms/step - loss: 0.1128 - acc: 0.9500\n"
     ]
    },
    {
     "data": {
      "text/plain": [
       "[0.11280150711536407, 0.949999988079071]"
      ]
     },
     "execution_count": 11,
     "metadata": {},
     "output_type": "execute_result"
    }
   ],
   "source": [
    "model.evaluate(X_test, y_test)"
   ]
  },
  {
   "cell_type": "markdown",
   "id": "d4bedecf",
   "metadata": {
    "papermill": {
     "duration": 0.011587,
     "end_time": "2022-07-25T11:56:17.678914",
     "exception": false,
     "start_time": "2022-07-25T11:56:17.667327",
     "status": "completed"
    },
    "tags": []
   },
   "source": [
    "# Result: He was hair loss!!!"
   ]
  },
  {
   "cell_type": "code",
   "execution_count": 12,
   "id": "a207ccc2",
   "metadata": {
    "execution": {
     "iopub.execute_input": "2022-07-25T11:56:17.704540Z",
     "iopub.status.busy": "2022-07-25T11:56:17.703566Z",
     "iopub.status.idle": "2022-07-25T11:56:17.845252Z",
     "shell.execute_reply": "2022-07-25T11:56:17.843802Z"
    },
    "papermill": {
     "duration": 0.157162,
     "end_time": "2022-07-25T11:56:17.847794",
     "exception": false,
     "start_time": "2022-07-25T11:56:17.690632",
     "status": "completed"
    },
    "tags": []
   },
   "outputs": [
    {
     "data": {
      "text/plain": [
       "array([[0.96459985]], dtype=float32)"
      ]
     },
     "execution_count": 12,
     "metadata": {},
     "output_type": "execute_result"
    }
   ],
   "source": [
    "model.predict(np.array([[2,2,2]]))"
   ]
  },
  {
   "cell_type": "code",
   "execution_count": null,
   "id": "114ac3b1",
   "metadata": {
    "papermill": {
     "duration": 0.011694,
     "end_time": "2022-07-25T11:56:17.871584",
     "exception": false,
     "start_time": "2022-07-25T11:56:17.859890",
     "status": "completed"
    },
    "tags": []
   },
   "outputs": [],
   "source": []
  }
 ],
 "metadata": {
  "kernelspec": {
   "display_name": "Python 3 (ipykernel)",
   "language": "python",
   "name": "python3"
  },
  "language_info": {
   "codemirror_mode": {
    "name": "ipython",
    "version": 3
   },
   "file_extension": ".py",
   "mimetype": "text/x-python",
   "name": "python",
   "nbconvert_exporter": "python",
   "pygments_lexer": "ipython3",
   "version": "3.10.7"
  },
  "papermill": {
   "default_parameters": {},
   "duration": 24.602236,
   "end_time": "2022-07-25T11:56:20.511640",
   "environment_variables": {},
   "exception": null,
   "input_path": "__notebook__.ipynb",
   "output_path": "__notebook__.ipynb",
   "parameters": {},
   "start_time": "2022-07-25T11:55:55.909404",
   "version": "2.3.4"
  }
 },
 "nbformat": 4,
 "nbformat_minor": 5
}
